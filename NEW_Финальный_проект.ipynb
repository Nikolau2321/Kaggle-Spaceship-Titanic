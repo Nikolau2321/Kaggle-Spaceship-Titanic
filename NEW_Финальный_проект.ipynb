{
  "cells": [
    {
      "cell_type": "markdown",
      "metadata": {
        "id": "view-in-github",
        "colab_type": "text"
      },
      "source": [
        "<a href=\"https://colab.research.google.com/github/Nikolau2321/Kaggle-Spaceship-Titanic/blob/main/NEW_%D0%A4%D0%B8%D0%BD%D0%B0%D0%BB%D1%8C%D0%BD%D1%8B%D0%B9_%D0%BF%D1%80%D0%BE%D0%B5%D0%BA%D1%82.ipynb\" target=\"_parent\"><img src=\"https://colab.research.google.com/assets/colab-badge.svg\" alt=\"Open In Colab\"/></a>"
      ]
    },
    {
      "cell_type": "code",
      "execution_count": null,
      "metadata": {
        "id": "Xq_TF8xjBHLm"
      },
      "outputs": [],
      "source": [
        "%matplotlib inline\n",
        "import os\n",
        "import matplotlib.pyplot as plt\n",
        "import pandas as pd\n",
        "import numpy as np\n",
        "import random\n",
        "from importlib import reload\n",
        "import keras\n",
        "from keras.preprocessing.image import ImageDataGenerator\n",
        "from tensorflow.keras.applications.resnet50 import ResNet50\n",
        "from keras.preprocessing import image\n",
        "from tensorflow.keras.applications.resnet50 import preprocess_input, decode_predictions\n",
        "from keras.layers import Flatten\n",
        "from keras.layers import Dense\n",
        "from keras.layers import Input\n",
        "from keras.models import Model\n",
        "from keras import backend as K\n",
        "import tensorflow as tf\n",
        "import glob\n",
        "from shutil import copyfile\n",
        "from keras.models import load_model\n",
        "from keras import optimizers"
      ]
    },
    {
      "cell_type": "code",
      "execution_count": null,
      "metadata": {
        "id": "AwpXJy0OBiju"
      },
      "outputs": [],
      "source": [
        "img_shape = (224, 224, 3)\n",
        "#загрузка модели\n",
        "resnet_model = ResNet50(include_top=False, input_shape=img_shape)"
      ]
    },
    {
      "cell_type": "code",
      "execution_count": null,
      "metadata": {
        "id": "5iq6jL7YE2vO"
      },
      "outputs": [],
      "source": [
        "from google.colab import drive\n",
        "drive.mount('/content/drive')"
      ]
    },
    {
      "cell_type": "code",
      "execution_count": null,
      "metadata": {
        "id": "SDJjoU7HFlRs"
      },
      "outputs": [],
      "source": [
        "import zipfile\n",
        "zipfile.ZipFile('/content/drive/MyDrive/Colab Notebooks/Дипломный_проект/images_training_rev1.zip', 'r').extractall()"
      ]
    },
    {
      "cell_type": "code",
      "execution_count": null,
      "metadata": {
        "id": "C6f8nX2XGwu6"
      },
      "outputs": [],
      "source": [
        "zipfile.ZipFile('/content/drive/MyDrive/Colab Notebooks/Дипломный_проект/training_solutions_rev1.zip', 'r').extractall()"
      ]
    },
    {
      "cell_type": "code",
      "execution_count": null,
      "metadata": {
        "id": "63NIwXRkC9Uy"
      },
      "outputs": [],
      "source": [
        "\n",
        "# Загрузка изображений и аугментация\n",
        "\n",
        "\n",
        "classes = [\n",
        "    'Class1.1', 'Class1.2', 'Class1.3', 'Class2.1', 'Class2.2', 'Class3.1',\n",
        "    'Class3.2', 'Class4.1', 'Class4.2', 'Class5.1', 'Class5.2', 'Class5.3',\n",
        "    'Class5.4', 'Class6.1', 'Class6.2', 'Class7.1', 'Class7.2', 'Class7.3',\n",
        "    'Class8.1', 'Class8.2', 'Class8.3', 'Class8.4', 'Class8.5', 'Class8.6',\n",
        "    'Class8.7', 'Class9.1', 'Class9.2', 'Class9.3', 'Class10.1', 'Class10.2',\n",
        "    'Class10.3', 'Class11.1', 'Class11.2', 'Class11.3', 'Class11.4',\n",
        "    'Class11.5', 'Class11.6'\n",
        "]\n",
        "\n",
        "\n",
        "def append_ext(fn):\n",
        "    return fn + \".jpg\"\n",
        "\n",
        "traindf = pd.read_csv('/content/training_solutions_rev1.csv')\n",
        "traindf[\"id\"] = traindf['GalaxyID'].astype(str).apply(append_ext)\n",
        "\n",
        "datagen = ImageDataGenerator(\n",
        "    fill_mode='nearest',\n",
        "    cval=0,\n",
        "    rescale=1. / 255,\n",
        "    rotation_range=90,\n",
        "    width_shift_range=0.1,\n",
        "    height_shift_range=0.1,\n",
        "    horizontal_flip=True,\n",
        "    vertical_flip=True,\n",
        "    validation_split=0.1) #10% процента\n",
        "\n",
        "train_generator = datagen.flow_from_dataframe(\n",
        "    dataframe=traindf,\n",
        "    directory=\"/content/images_training_rev1/\",\n",
        "    x_col=\"id\",\n",
        "    y_col=classes,\n",
        "    subset=\"training\",\n",
        "    batch_size=64,\n",
        "    seed=123,\n",
        "    shuffle=True,\n",
        "    class_mode=\"other\",\n",
        "    target_size=(224, 224))\n",
        "\n",
        "valid_generator = datagen.flow_from_dataframe(\n",
        "    dataframe=traindf,\n",
        "    directory=\"/content/images_training_rev1/\",\n",
        "    x_col=\"id\",\n",
        "    y_col=classes,\n",
        "    subset=\"validation\",\n",
        "    batch_size=64,\n",
        "    seed=123,\n",
        "    shuffle=True,\n",
        "    class_mode=\"other\",\n",
        "    target_size=(224, 224))\n",
        "\n",
        "STEP_SIZE_TRAIN = train_generator.n // train_generator.batch_size\n",
        "STEP_SIZE_VALID = valid_generator.n // valid_generator.batch_size"
      ]
    },
    {
      "cell_type": "markdown",
      "metadata": {
        "id": "_1sbzNDyIorP"
      },
      "source": [
        "ResNet-50 — сверточная нейронная сеть, обученная на более чем миллионе изображений из базы данных ImageNet. Сеть состоит из 50 слоев и может классифицировать изображения по 1000 категориям объектов, таким как клавиатура, мышь, карандаш и многие животные.\n",
        "\n",
        "\n",
        "Отрегулируем выходные слои загруженной модели в соответствии с заданными данными обучения."
      ]
    },
    {
      "cell_type": "code",
      "execution_count": null,
      "metadata": {
        "id": "H6UKmUFcJcWy"
      },
      "outputs": [],
      "source": [
        "# Сгладим вывод последнего слоя перед добавлением выходного слоя (плотный слой)\n",
        "x = Flatten()(resnet_model.output)\n",
        "\n",
        "# Добавим выходной слой (количество выходов = 37)\n",
        "x = Dense(len(classes), activation='sigmoid')(x)\n",
        "\n",
        "# Загружаем модифицированную модель\n",
        "model = Model(inputs=resnet_model.input, outputs=x)"
      ]
    },
    {
      "cell_type": "code",
      "execution_count": null,
      "metadata": {
        "id": "SdweZjgWJ6h-"
      },
      "outputs": [],
      "source": [
        "print(model.summary())"
      ]
    },
    {
      "cell_type": "code",
      "execution_count": null,
      "metadata": {
        "id": "WdrFnlMDKNdw"
      },
      "outputs": [],
      "source": [
        "#Тонкая настройка всех слоев модели | Адам Оптимизатор \n",
        "\n",
        "for layer in model.layers:\n",
        "    layer.trainable = True\n",
        "\n",
        "optimizer = keras.optimizers.Adam(lr=0.001, decay=5e-4)\n",
        "\n",
        "model.compile(optimizer, loss='mse', metrics=[\"accuracy\"])"
      ]
    },
    {
      "cell_type": "code",
      "execution_count": null,
      "metadata": {
        "id": "DgGCLpCxKszO"
      },
      "outputs": [],
      "source": [
        "from keras.callbacks import Callback\n",
        "from keras.callbacks import ModelCheckpoint, Callback, EarlyStopping\n",
        "\n",
        "\n",
        "class LossHistory(Callback):\n",
        "    def on_train_begin(self, logs={}):\n",
        "        self.losses = []\n",
        "        self.val_losses = []\n",
        "\n",
        "    def on_batch_end(self, batch, logs={}):\n",
        "        self.losses.append(logs.get('loss'))\n",
        "        self.val_losses.append(logs.get('val_loss'))\n",
        "\n",
        "\n",
        "early_stopping = EarlyStopping(\n",
        "    monitor='val_loss', patience=4, verbose=1, mode='auto')\n",
        "\n",
        "history = LossHistory()\n",
        "\n",
        "from keras.callbacks import ModelCheckpoint\n",
        "checkpointer = ModelCheckpoint(\n",
        "    filepath='today_5_epochs/weights.hdf5', verbose=2, save_best_only=True)"
      ]
    },
    {
      "cell_type": "code",
      "execution_count": null,
      "metadata": {
        "id": "Tlbc8J7YK3lE"
      },
      "outputs": [],
      "source": [
        "hist = model.fit_generator(\n",
        "    train_generator,\n",
        "    steps_per_epoch=STEP_SIZE_TRAIN,\n",
        "    validation_data=valid_generator,\n",
        "    validation_steps=STEP_SIZE_VALID,\n",
        "    epochs=15,\n",
        "    callbacks=[history, checkpointer, early_stopping])"
      ]
    },
    {
      "cell_type": "markdown",
      "metadata": {
        "id": "8w685kcJQaXh"
      },
      "source": [
        "# Новый раздел"
      ]
    },
    {
      "cell_type": "code",
      "execution_count": null,
      "metadata": {
        "id": "iZr1E0uWLMsH"
      },
      "outputs": [],
      "source": [
        "plt.figure(figsize=(12, 8))\n",
        "plt.plot(hist.epoch, hist.history['loss'], label='Training Loss')\n",
        "plt.plot(\n",
        "    hist.epoch, hist.history['val_loss'], label='Validation', linestyle='--')\n",
        "plt.xlabel(\"Epochs\")\n",
        "plt.ylabel(\"RMSE\")\n",
        "plt.legend()\n",
        "plt.show()"
      ]
    },
    {
      "cell_type": "code",
      "execution_count": null,
      "metadata": {
        "id": "VVhcm-xvPFgj"
      },
      "outputs": [],
      "source": [
        "from keras.models import load_model\n",
        "\n",
        "model = load_model('today_15_epochs/weights.hdf15')"
      ]
    },
    {
      "cell_type": "markdown",
      "metadata": {
        "id": "eX16_ByZPj9O"
      },
      "source": [
        "\n",
        "Загрузим лучшую модель из сохраненного файла весов\n",
        "\n",
        "Подгтовим для тестовых данных"
      ]
    },
    {
      "cell_type": "code",
      "execution_count": null,
      "metadata": {
        "id": "8x3eoGjdPRpq"
      },
      "outputs": [],
      "source": [
        "test_datagen = ImageDataGenerator(rescale=1. / 255)\n",
        "\n",
        "test_generator = test_datagen.flow_from_directory(\n",
        "    \"/content\",\n",
        "    class_mode=None,\n",
        "    color_mode=\"rgb\",\n",
        "    batch_size=1,\n",
        "    target_size=(224, 224),\n",
        "    seed=123,\n",
        "    shuffle=False)"
      ]
    },
    {
      "cell_type": "markdown",
      "metadata": {
        "id": "GTLzH-6NQDQI"
      },
      "source": [
        "Прогнозы для тестовых данных"
      ]
    },
    {
      "cell_type": "code",
      "execution_count": null,
      "metadata": {
        "id": "7537ir8oQClI"
      },
      "outputs": [],
      "source": [
        "test_generator.reset()\n",
        "\n",
        "predictions = model.predict_generator(\n",
        "    test_generator,\n",
        "    steps=test_generator.n / test_generator.batch_size,\n",
        "    verbose=1)\n",
        "\n",
        "print(predictions.shape)"
      ]
    },
    {
      "cell_type": "code",
      "execution_count": null,
      "metadata": {
        "id": "HBr7A2zf4Z8Q"
      },
      "outputs": [],
      "source": [
        "zipfile.ZipFile('/content/drive/MyDrive/Colab Notebooks/Дипломный_проект/all_zeros_benchmark.zip', 'r').extractall()"
      ]
    },
    {
      "cell_type": "code",
      "execution_count": null,
      "metadata": {
        "id": "AKrgYenvQMSr"
      },
      "outputs": [],
      "source": [
        "def get_id(fname):\n",
        "    return fname.replace(\".jpg\", \"\").split(\"/\")[1]\n",
        "\n",
        "\n",
        "header = open('/content/all_zeros_benchmark.csv', 'r').readlines()[0]\n",
        "\n",
        "with open('Output.csv', 'w') as outfile:\n",
        "    outfile.write(header)\n",
        "    for i in range(len(test_generator.filenames)):\n",
        "        id_ = (get_id(test_generator.filenames[i]))\n",
        "        pred = predictions[i]\n",
        "        outline = id_ + \",\" + \",\".join([str(x) for x in pred])\n",
        "        outfile.write(outline + \"\\n\")"
      ]
    }
  ],
  "metadata": {
    "accelerator": "TPU",
    "colab": {
      "provenance": [],
      "private_outputs": true,
      "authorship_tag": "ABX9TyPII6lc4JF6XwTlfbDiQ1h1",
      "include_colab_link": true
    },
    "gpuClass": "standard",
    "kernelspec": {
      "display_name": "Python 3",
      "name": "python3"
    },
    "language_info": {
      "name": "python"
    }
  },
  "nbformat": 4,
  "nbformat_minor": 0
}